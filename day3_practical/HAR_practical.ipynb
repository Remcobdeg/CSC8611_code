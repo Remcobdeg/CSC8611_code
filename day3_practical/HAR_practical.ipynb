{
 "cells": [
  {
   "cell_type": "markdown",
   "id": "seeing-numbers",
   "metadata": {},
   "source": [
    "# Machine Learning for Human Activity Recognition"
   ]
  },
  {
   "cell_type": "markdown",
   "id": "blank-cuisine",
   "metadata": {},
   "source": [
    "## 1. data preparation\n",
    "dataset can be downloaded at: https://www.dropbox.com/sh/1745pukanq6g94r/AAAy1zulrY25VZXh65sAWbZoa?dl=0\n",
    "\n",
    "if you use colab, you can upload the dataset via the script below:\n",
    "\n",
    "from google.colab import files\n",
    "\n",
    "files.upload()"
   ]
  },
  {
   "cell_type": "code",
   "execution_count": 1,
   "id": "conscious-confidence",
   "metadata": {},
   "outputs": [],
   "source": [
    "\n",
    "\n",
    "import numpy as np\n",
    "import scipy.io\n",
    "\n",
    "\n",
    "data = scipy.io.loadmat('PAMAP2.mat')\n",
    "Xy_train0 = data['Xy_train']\n",
    "Xy_test0 = data['Xy_test']"
   ]
  },
  {
   "cell_type": "code",
   "execution_count": 2,
   "id": "seventh-gentleman",
   "metadata": {},
   "outputs": [
    {
     "name": "stdout",
     "output_type": "stream",
     "text": [
      "optional: channel-wise normalisation\n"
     ]
    }
   ],
   "source": [
    "print('optional: channel-wise normalisation')\n",
    "mn = np.mean(Xy_train0[:,:-1], axis=0)\n",
    "std = np.std(Xy_train0[:,:-1], axis=0)\n",
    "Xy_train0[:,:-1] = (Xy_train0[:,:-1]-mn)/std\n",
    "Xy_test0[:,:-1] = (Xy_test0[:,:-1]-mn)/std"
   ]
  },
  {
   "cell_type": "code",
   "execution_count": 3,
   "id": "standing-detroit",
   "metadata": {},
   "outputs": [
    {
     "name": "stdout",
     "output_type": "stream",
     "text": [
      "27\n"
     ]
    }
   ],
   "source": [
    "cNum=12  #in this dataset, therer are 12 activities\n",
    "win_len = 100\n",
    "dim = Xy_train0.shape[1]-1 #minus the label col\n",
    "print(dim)"
   ]
  },
  {
   "cell_type": "code",
   "execution_count": 4,
   "id": "right-columbus",
   "metadata": {},
   "outputs": [],
   "source": [
    "def sliding_window(Xy, percentage=0.5, win_len=100):\n",
    "    #print('per')\n",
    "    print('overlapping_percentage:  '+str(percentage*100)+'%')\n",
    "\n",
    "    batch_size0 = int(np.floor(len(Xy)/win_len))\n",
    "    #print(batch_size0)\n",
    "    Xy0 = Xy[:win_len*batch_size0,:]\n",
    "    if percentage==1:\n",
    "        print('100% overlapping means no overlapping')\n",
    "        return Xy0\n",
    "\n",
    "    K_fold = int(1/(1-percentage))\n",
    "    #print(K_fold)\n",
    "    offset = int(np.round(win_len * (1-percentage)))\n",
    "    Xy_big = []\n",
    "    for k in range(K_fold):\n",
    "        #print(k)\n",
    "        current_set = Xy0[k*offset:len(Xy0)-(win_len-k*offset),:]\n",
    "        #print(len(current_set))\n",
    "        Xy_big.append(current_set)\n",
    "    return np.concatenate(Xy_big)\n",
    "\n",
    "def _to_frames(Xy, dim, win_len=100):\n",
    "    X3D = np.reshape(Xy[:,:-1], (-1, win_len, dim))\n",
    "    y2D = np.reshape(Xy[:,-1],(-1, win_len)).astype(int)\n",
    "    y = np.zeros(len(y2D))\n",
    "    for i in range(len(y2D)):\n",
    "        counts = np.bincount(np.reshape(y2D[i, :], (-1)))\n",
    "        y[i] = np.argmax(counts)\n",
    "    return X3D, y"
   ]
  },
  {
   "cell_type": "code",
   "execution_count": 5,
   "id": "heated-satellite",
   "metadata": {},
   "outputs": [
    {
     "name": "stdout",
     "output_type": "stream",
     "text": [
      "original training data shape (473445, 28)\n",
      "overlapping_percentage:  50.0%\n",
      "after overlapping sliding window (946600, 28)\n",
      "converting to frames (100 samples per window) with size (9466, 100, 27)\n",
      "overlapping_percentage:  50.0%\n"
     ]
    }
   ],
   "source": [
    "print('original training data shape', Xy_train0.shape)\n",
    "Xy_train = sliding_window(Xy_train0, 0.5, win_len)\n",
    "print('after overlapping sliding window', Xy_train.shape)\n",
    "X_train0, y_train0 = _to_frames(Xy_train,dim, win_len)\n",
    "print('converting to frames (100 samples per window) with size', X_train0.shape)\n",
    "\n",
    "\n",
    "#print(Xy_test0.shape)\n",
    "Xy_test = sliding_window(Xy_test0, 0.5, win_len)\n",
    "#print(Xy_test.shape)\n",
    "X_test0, y_test0 = _to_frames(Xy_test,dim,win_len)"
   ]
  },
  {
   "cell_type": "markdown",
   "id": "adjacent-maple",
   "metadata": {},
   "source": [
    "### We use balanced data, where 'accuracy' is the right measure."
   ]
  },
  {
   "cell_type": "code",
   "execution_count": 6,
   "id": "hired-motor",
   "metadata": {},
   "outputs": [],
   "source": [
    "def building_balanced_DB(X, y, cNum, sample_number):\n",
    "    print('each class will have the same sample number')\n",
    "    X_new = np.empty([0, win_len, dim])\n",
    "    y_new = np.empty([0])\n",
    "    for i in range(cNum):\n",
    "        if len(X[y==i])<sample_number:\n",
    "            print('Error: not enough samples for class '+str(i) +'please choose a smaller number')\n",
    "            break\n",
    "        else:\n",
    "            X_new = np.concatenate((X_new, X[y==i][:sample_number]), axis=0)\n",
    "            #print(X_new.shape)\n",
    "        \n",
    "        y_new = np.concatenate((y_new, y[y==i][:sample_number]), axis=0)\n",
    "        #print(y_new)\n",
    "    return X_new, y_new"
   ]
  },
  {
   "cell_type": "code",
   "execution_count": 7,
   "id": "thick-rates",
   "metadata": {},
   "outputs": [
    {
     "name": "stdout",
     "output_type": "stream",
     "text": [
      "now it is the balanced data\n",
      "each class will have the same sample number\n",
      "each class will have the same sample number\n"
     ]
    }
   ],
   "source": [
    "\n",
    "print('now it is the balanced data')\n",
    "size_per_class_train = 250\n",
    "size_per_class_test = 50\n",
    "X_train0, y_train0 = building_balanced_DB(X_train0, y_train0, cNum, size_per_class_train)\n",
    "X_test0, y_test0 = building_balanced_DB(X_test0, y_test0, cNum, size_per_class_test)\n",
    "\n",
    "   \n",
    "  "
   ]
  },
  {
   "cell_type": "code",
   "execution_count": 8,
   "id": "checked-rescue",
   "metadata": {},
   "outputs": [
    {
     "name": "stdout",
     "output_type": "stream",
     "text": [
      "----------train_Data---------------\n",
      "class 0, sample number 250, percentage 8.3%\n",
      "class 1, sample number 250, percentage 8.3%\n",
      "class 2, sample number 250, percentage 8.3%\n",
      "class 3, sample number 250, percentage 8.3%\n",
      "class 4, sample number 250, percentage 8.3%\n",
      "class 5, sample number 250, percentage 8.3%\n",
      "class 6, sample number 250, percentage 8.3%\n",
      "class 7, sample number 250, percentage 8.3%\n",
      "class 8, sample number 250, percentage 8.3%\n",
      "class 9, sample number 250, percentage 8.3%\n",
      "class 10, sample number 250, percentage 8.3%\n",
      "class 11, sample number 250, percentage 8.3%\n"
     ]
    },
    {
     "data": {
      "image/png": "[encoded data removed]",
      "text/plain": [
       "<Figure size 432x288 with 1 Axes>"
      ]
     },
     "metadata": {},
     "output_type": "display_data"
    },
    {
     "name": "stdout",
     "output_type": "stream",
     "text": [
      "----------testing_Data--------------\n",
      "class 0, sample number 50, percentage 8.3%\n",
      "class 1, sample number 50, percentage 8.3%\n",
      "class 2, sample number 50, percentage 8.3%\n",
      "class 3, sample number 50, percentage 8.3%\n",
      "class 4, sample number 50, percentage 8.3%\n",
      "class 5, sample number 50, percentage 8.3%\n",
      "class 6, sample number 50, percentage 8.3%\n",
      "class 7, sample number 50, percentage 8.3%\n",
      "class 8, sample number 50, percentage 8.3%\n",
      "class 9, sample number 50, percentage 8.3%\n",
      "class 10, sample number 50, percentage 8.3%\n",
      "class 11, sample number 50, percentage 8.3%\n"
     ]
    },
    {
     "data": {
      "image/png": "[encoded data removed]",
      "text/plain": [
       "<Figure size 432x288 with 1 Axes>"
      ]
     },
     "metadata": {},
     "output_type": "display_data"
    }
   ],
   "source": [
    "import matplotlib.pyplot as plt\n",
    "%matplotlib inline\n",
    "def drawing_pie_chart(percentages, labels, dataset_id):\n",
    "    plt.title(dataset_id)\n",
    "    color_set = ['yellowgreen', 'gold', 'lightskyblue', 'lightcoral',\n",
    "            '#eeeeee','#C44E52', 'green', '#B47CC7','#ffed6f','#777777','#C4AD66','red', \n",
    "                  'blue',  'cyan', 'magenta',\n",
    "                '#FBC15E','#56B4E9','#4878CF','#FFFEA3' ]\n",
    "    \n",
    "    labels = labels.copy()\n",
    "    for i in range(len(percentages)):\n",
    "        labels[i] = labels[i]+'  ('+str(percentages[i])[:4]+'%)'\n",
    "    colors = color_set[:len(percentages)]\n",
    "    \n",
    "    \n",
    "    patches, texts = plt.pie(percentages, colors=colors, startangle=90)\n",
    "    \n",
    "    plt.axis('equal')\n",
    "    lgd = plt.legend(labels, loc=(0.9, 0.05), shadow=True, borderaxespad=10.)\n",
    "    \n",
    "    \n",
    "    #plt.savefig('dataset_'+dataset_id+'.eps', bbox_extra_artists=(lgd,), bbox_inches='tight', format='eps', dpi=600)\n",
    "    plt.show()\n",
    "    \n",
    "def calculating_percentages(y_, cNum):\n",
    "    percentages = np.zeros(cNum)\n",
    "    for i in range(cNum):\n",
    "        num = np.sum(y_==i)\n",
    "        percentages[i]=100.0*num/len(y_)\n",
    "        print('class {}, sample number {}, percentage {:.1f}%'.format(i, num, percentages[i]))\n",
    "    return percentages\n",
    "\n",
    "\n",
    "dataset_id = 'PAMAP2'\n",
    "labels_PAMAP2 = [r'rope jumping', \n",
    "                 r'lying', \n",
    "                 r'sitting', \n",
    "                 r'standing',\n",
    "                 r'walking', \n",
    "                 r'running', \n",
    "                 r'cycling', \n",
    "                 r'nordic walking',\n",
    "                 r'ascending stairs', \n",
    "                 r'descending stairs', \n",
    "                 r'vacuum cleaning', \n",
    "                 r'ironing']\n",
    "cNum = 12 # 12 classes for PAMAP2\n",
    "\n",
    "print('----------train_Data---------------')\n",
    "percentages_train = calculating_percentages(y_train0, cNum)\n",
    "drawing_pie_chart(percentages_train,labels_PAMAP2,dataset_id+'_train')\n",
    "\n",
    "print('----------testing_Data--------------')\n",
    "percentages_test = calculating_percentages(y_test0, cNum)\n",
    "drawing_pie_chart(percentages_test,labels_PAMAP2,dataset_id+'_test')"
   ]
  },
  {
   "cell_type": "markdown",
   "id": "moved-league",
   "metadata": {},
   "source": [
    "## 2. HAR on Raw data\n",
    "### Now we directly perform classification on the raw data, and see what happens. First, we have to convert the data into vectors..."
   ]
  },
  {
   "cell_type": "code",
   "execution_count": 9,
   "id": "constitutional-headline",
   "metadata": {},
   "outputs": [
    {
     "name": "stdout",
     "output_type": "stream",
     "text": [
      "original dimension: (3000, 100, 27)\n",
      "reshaped dimension: (3000, 2700)\n"
     ]
    }
   ],
   "source": [
    "print('original dimension:', X_train0.shape)\n",
    "X_train = np.reshape(X_train0, (-1, dim*win_len))\n",
    "X_test = np.reshape(X_test0, (-1, dim*win_len))\n",
    "print('reshaped dimension:', X_train.shape)\n",
    "\n",
    "y_train = y_train0.copy()\n",
    "y_test = y_test0.copy()"
   ]
  },
  {
   "cell_type": "markdown",
   "id": "dependent-variance",
   "metadata": {},
   "source": [
    "### Now the data are in vectors with dimensioality 2700, can you build the machine learning models (using training data) for the classification on the test data? "
   ]
  },
  {
   "cell_type": "markdown",
   "id": "abroad-mayor",
   "metadata": {},
   "source": [
    "### TODO_1:   feature scaling, e.g., make the features into zero mean, unit variance."
   ]
  },
  {
   "cell_type": "code",
   "execution_count": null,
   "id": "hybrid-replacement",
   "metadata": {},
   "outputs": [],
   "source": []
  },
  {
   "cell_type": "markdown",
   "id": "secondary-visit",
   "metadata": {},
   "source": [
    "### TODO_2: train a logstic regression (LR) classifeir for the prediction  (with default hyper-parameter)\n",
    "### if it doesn't convergy, set max_iter to a large value, e.g., max_iter=1000, more details can be found at:\n",
    "https://scikit-learn.org/stable/modules/generated/sklearn.linear_model.LogisticRegression.html\n",
    "\n",
    "### you should output your LR's performance (in accuracy) on the test set."
   ]
  },
  {
   "cell_type": "code",
   "execution_count": null,
   "id": "capital-castle",
   "metadata": {},
   "outputs": [],
   "source": []
  },
  {
   "cell_type": "markdown",
   "id": "according-bottom",
   "metadata": {},
   "source": [
    "### TODO_3: train a (linear) SVM classifeir for the prediction  (with default hyper-parameter)"
   ]
  },
  {
   "cell_type": "code",
   "execution_count": null,
   "id": "color-statement",
   "metadata": {},
   "outputs": [],
   "source": []
  },
  {
   "cell_type": "markdown",
   "id": "danish-mayor",
   "metadata": {},
   "source": [
    "### TODO_4: train a (RBF) SVM classifeir for the prediction  (with default hyper-parameter)"
   ]
  },
  {
   "cell_type": "code",
   "execution_count": null,
   "id": "competitive-bibliography",
   "metadata": {},
   "outputs": [],
   "source": []
  },
  {
   "cell_type": "markdown",
   "id": "automotive-optimum",
   "metadata": {},
   "source": [
    "### Question 1: which classifier is better (in terms of accuracy)?  LR, linear-SVM or RBF-SVM?  why? "
   ]
  },
  {
   "cell_type": "markdown",
   "id": "external-belief",
   "metadata": {},
   "source": [
    "### Answer:"
   ]
  },
  {
   "cell_type": "markdown",
   "id": "hourly-google",
   "metadata": {},
   "source": [
    "### TODO_5: train a decision tree (DT) classifeir for the prediction  (with default hyper-parameter)"
   ]
  },
  {
   "cell_type": "code",
   "execution_count": null,
   "id": "religious-lincoln",
   "metadata": {},
   "outputs": [],
   "source": []
  },
  {
   "cell_type": "markdown",
   "id": "familiar-edward",
   "metadata": {},
   "source": [
    "### TODO_6: train a random forest (RF) classifeir for the prediction  (with default hyper-parameter)"
   ]
  },
  {
   "cell_type": "code",
   "execution_count": null,
   "id": "coated-requirement",
   "metadata": {},
   "outputs": [],
   "source": []
  },
  {
   "cell_type": "markdown",
   "id": "indonesian-glucose",
   "metadata": {},
   "source": [
    "### TODO_7: train a K-Nearest Neighbour (KNN) classifeir for the prediction  (with default hyper-parameter)"
   ]
  },
  {
   "cell_type": "code",
   "execution_count": null,
   "id": "universal-remove",
   "metadata": {},
   "outputs": [],
   "source": []
  },
  {
   "cell_type": "markdown",
   "id": "continental-preliminary",
   "metadata": {},
   "source": [
    "### Question 2: are these non-linear classifiers (DT, RF, KNN) working well (in terms of accuracy)?"
   ]
  },
  {
   "cell_type": "markdown",
   "id": "coordinate-module",
   "metadata": {},
   "source": [
    "### Answer:"
   ]
  },
  {
   "cell_type": "markdown",
   "id": "chemical-economy",
   "metadata": {},
   "source": [
    "## 3. HAR on feature engineered data\n",
    "#### performing feature engineering"
   ]
  },
  {
   "cell_type": "code",
   "execution_count": 10,
   "id": "classified-tracy",
   "metadata": {},
   "outputs": [
    {
     "name": "stdout",
     "output_type": "stream",
     "text": [
      "new feature dimension: 297\n"
     ]
    }
   ],
   "source": [
    "from scipy.stats import kurtosis, skew, iqr, median_abs_deviation \n",
    "def _FE(X):\n",
    "    X_mean = np.mean(X, axis=1)\n",
    "    X_std = np.std(X, axis=1)\n",
    "    X_var = np.var(X, axis=1)\n",
    "    X_energy = np.sqrt(np.mean(np.power(X, 2), axis=1))\n",
    "    X_mad= np.mean(np.abs(X - np.expand_dims(X_mean, axis=1)), axis=1)\n",
    "    X_mad1 = median_abs_deviation(X, axis=1)\n",
    "    X_kurtosis = kurtosis(X, axis = 1)\n",
    "    X_skew = skew(X, axis = 1)\n",
    "    X_iqr = iqr(X, axis = 1)\n",
    "    X_max = np.amax(X, axis=1)\n",
    "    X_min = np.amin(X, axis=1)\n",
    "    \n",
    "    return np.concatenate((X_mean \n",
    "                           ,X_std\n",
    "                           ,X_var\n",
    "                           ,X_energy\n",
    "                           ,X_mad\n",
    "                           ,X_mad1\n",
    "                           ,X_kurtosis\n",
    "                           ,X_skew\n",
    "                           ,X_iqr\n",
    "                           ,X_max\n",
    "                           ,X_min\n",
    "                          ), axis=1)\n",
    "\n",
    "\n",
    "\n",
    "#print('performing feature engineering')\n",
    "X_train = _FE(X_train0)\n",
    "X_test = _FE(X_test0)\n",
    "print('new feature dimension: '+str(X_train.shape[1]))\n",
    "y_train = y_train0.copy()\n",
    "y_test = y_test0.copy()\n",
    "\n"
   ]
  },
  {
   "cell_type": "markdown",
   "id": "precise-precipitation",
   "metadata": {},
   "source": [
    "### TODO_8:   feature scaling, e.g., make the features into zero mean, unit variance."
   ]
  },
  {
   "cell_type": "code",
   "execution_count": null,
   "id": "surgical-filename",
   "metadata": {},
   "outputs": [],
   "source": []
  },
  {
   "cell_type": "markdown",
   "id": "offensive-friendship",
   "metadata": {},
   "source": [
    "### TODO_9:   based on the new 297-dimensional feature, run the 6 classifiers, and report the accuracies"
   ]
  },
  {
   "cell_type": "code",
   "execution_count": null,
   "id": "latter-houston",
   "metadata": {},
   "outputs": [],
   "source": []
  },
  {
   "cell_type": "markdown",
   "id": "organic-hotel",
   "metadata": {},
   "source": [
    "### Question 3: is feature engineering working or not?  why?  "
   ]
  },
  {
   "cell_type": "markdown",
   "id": "loose-brush",
   "metadata": {},
   "source": []
  },
  {
   "cell_type": "markdown",
   "id": "victorian-aerospace",
   "metadata": {},
   "source": [
    "## 4. Hyper-parameters\n",
    "#### selecting the best hyper-parameter value using GridSearch"
   ]
  },
  {
   "cell_type": "markdown",
   "id": "resident-groove",
   "metadata": {},
   "source": [
    "### TODO_10: fine-tune LR classifier using cross-validation, and apply the optimal hyper-parameter(s) to the test set"
   ]
  },
  {
   "cell_type": "code",
   "execution_count": null,
   "id": "liquid-compatibility",
   "metadata": {},
   "outputs": [],
   "source": []
  },
  {
   "cell_type": "markdown",
   "id": "imported-sigma",
   "metadata": {},
   "source": [
    "### Question 4: with the optimal hyper-parameter(s), does the accuracy improve?  "
   ]
  },
  {
   "cell_type": "markdown",
   "id": "incident-presentation",
   "metadata": {},
   "source": []
  }
 ],
 "metadata": {
  "kernelspec": {
   "display_name": "Python 3",
   "language": "python",
   "name": "python3"
  },
  "language_info": {
   "codemirror_mode": {
    "name": "ipython",
    "version": 3
   },
   "file_extension": ".py",
   "mimetype": "text/x-python",
   "name": "python",
   "nbconvert_exporter": "python",
   "pygments_lexer": "ipython3",
   "version": "3.7.9"
  }
 },
 "nbformat": 4,
 "nbformat_minor": 5
}
