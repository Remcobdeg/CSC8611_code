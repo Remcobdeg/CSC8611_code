{
 "cells": [
  {
   "cell_type": "code",
   "execution_count": 1,
   "metadata": {},
   "outputs": [],
   "source": [
    "import csv\n",
    "import numpy as np\n",
    "import scipy.io\n",
    "import glob\n",
    "import matplotlib.pyplot as plt\n",
    "%matplotlib inline"
   ]
  },
  {
   "cell_type": "markdown",
   "metadata": {},
   "source": [
    "PAMAP2 dataset\n",
    "1. download the dataset at https://archive.ics.uci.edu/ml/datasets/pamap2+physical+activity+monitoring\n",
    "2. unzip the file to a directory (myDB). The dataset include 9 participants doing 18 daily activities, which can be found at the upzipped dataset description.\n",
    "3. We will use two subjects(subject105, subject106) as test data, while the rest 7 subjects as training set. Manually set up 'train' directory and 'test' directory, and move the corresponding subjects there.\n",
    "4. 12 activities (out of the 18 activities) will be used. For the simplified version (with data balanced for each class), 10 activities will be selected.\n",
    "5. only a subset sensors will be used, including one (dominant side)wrist-IMU, one chest-IMU, and one (dominant side)ankle-IMU,  each with 3D accelerometer (+-16g), 3D gyroscope, and 3D magnetometer. (a total of 3*3*3=27 channels)\n",
    "6. We will downsample the data from 100Hz to 33Hz"
   ]
  },
  {
   "cell_type": "code",
   "execution_count": null,
   "metadata": {},
   "outputs": [],
   "source": [
    "\n",
    "\n"
   ]
  },
  {
   "cell_type": "code",
   "execution_count": 2,
   "metadata": {},
   "outputs": [],
   "source": [
    "\n",
    "\n",
    "def read_PAMAP2(myDB, filetype):\n",
    "    print('reading...'+filetype+' set')\n",
    "    PAMAP2_Dir = myDB+'PAMAP2_Dataset/'+filetype+'/'\n",
    "    Xy_array = np.empty([0, 53])\n",
    "    list_of_files = glob.glob(PAMAP2_Dir+'*.dat')\n",
    "    for fileName in list_of_files:\n",
    "        print(fileName)\n",
    "        curr_data = np.loadtxt(fileName)[:,1:]\n",
    "        Xy_array = np.concatenate((Xy_array, curr_data), axis=0)\n",
    "    Xy_array = Xy_array[Xy_array[:,0]!=0]\n",
    "    Xy_array = Xy_array[Xy_array[:,0]!=9]\n",
    "    Xy_array = Xy_array[Xy_array[:,0]!=10]\n",
    "    Xy_array = Xy_array[Xy_array[:,0]!=11]\n",
    "    Xy_array = Xy_array[Xy_array[:,0]!=18]\n",
    "    Xy_array = Xy_array[Xy_array[:,0]!=19]\n",
    "    Xy_array = Xy_array[Xy_array[:,0]!=20]\n",
    "    print('get rid of optional labels . . . done')\n",
    "    \n",
    "    Xy_array[Xy_array[:,0]==12,0]=8\n",
    "    Xy_array[Xy_array[:,0]==13,0]=9\n",
    "    Xy_array[Xy_array[:,0]==16,0]=10\n",
    "    Xy_array[Xy_array[:,0]==17,0]=11\n",
    "    Xy_array[Xy_array[:,0]==24,0]=0\n",
    "    print('updating labels to 12 activities (0-11)')   \n",
    "    \n",
    "    Xy_array = Xy_array[0::3]\n",
    "    print('subsampling at a step of 3 ... done')\n",
    "       \n",
    "    Xy_array = np.nan_to_num(Xy_array)\n",
    "    print('converting nan to zeros')\n",
    "    \n",
    "    \n",
    "    X52 = Xy_array[:,1:].astype('float32')\n",
    "    y = Xy_array[:,0:1]\n",
    "    \n",
    "    X_wrist = np.concatenate((X52[:,2:5], X52[:,8:11], X52[:,11:14]), axis=1)\n",
    "    X_chest = np.concatenate((X52[:,19:22], X52[:,25:28], X52[:,28:31]), axis=1)\n",
    "    X_ankle = np.concatenate((X52[:,35:38], X52[:,41:44], X52[:,44:47]), axis=1)\n",
    "    print('only keep the IMUs on wrist/chest/ankle, with 27d time-series data... done')\n",
    "    Xy=np.concatenate((X_wrist, X_chest, X_ankle, y), axis=1)\n",
    "    print('with 28d output data, with label in the last dimension... done')\n",
    "    return Xy"
   ]
  },
  {
   "cell_type": "code",
   "execution_count": 3,
   "metadata": {},
   "outputs": [
    {
     "name": "stdout",
     "output_type": "stream",
     "text": [
      "reading...train set\n",
      "../../../Documents/ubicomp_datasets/PAMAP2_Dataset/train/subject101_op.dat\n",
      "../../../Documents/ubicomp_datasets/PAMAP2_Dataset/train/subject108.dat\n",
      "../../../Documents/ubicomp_datasets/PAMAP2_Dataset/train/subject109.dat\n",
      "../../../Documents/ubicomp_datasets/PAMAP2_Dataset/train/subject109_op.dat\n",
      "../../../Documents/ubicomp_datasets/PAMAP2_Dataset/train/subject107.dat\n",
      "../../../Documents/ubicomp_datasets/PAMAP2_Dataset/train/subject104.dat\n",
      "../../../Documents/ubicomp_datasets/PAMAP2_Dataset/train/subject101.dat\n",
      "../../../Documents/ubicomp_datasets/PAMAP2_Dataset/train/subject102.dat\n",
      "../../../Documents/ubicomp_datasets/PAMAP2_Dataset/train/subject103.dat\n",
      "../../../Documents/ubicomp_datasets/PAMAP2_Dataset/train/subject108_op.dat\n",
      "get rid of optional labels . . . done\n",
      "updating labels to 12 activities (0-11)\n",
      "subsampling at a step of 3 ... done\n",
      "converting nan to zeros\n",
      "only keep the IMUs on wrist/chest/ankle, with 27d time-series data... done\n",
      "with 28d output data, with label in the last dimension... done\n",
      "reading...test set\n",
      "../../../Documents/ubicomp_datasets/PAMAP2_Dataset/test/subject105_op.dat\n",
      "../../../Documents/ubicomp_datasets/PAMAP2_Dataset/test/subject106.dat\n",
      "../../../Documents/ubicomp_datasets/PAMAP2_Dataset/test/subject105.dat\n",
      "../../../Documents/ubicomp_datasets/PAMAP2_Dataset/test/subject106_op.dat\n",
      "get rid of optional labels . . . done\n",
      "updating labels to 12 activities (0-11)\n",
      "subsampling at a step of 3 ... done\n",
      "converting nan to zeros\n",
      "only keep the IMUs on wrist/chest/ankle, with 27d time-series data... done\n",
      "with 28d output data, with label in the last dimension... done\n",
      "raw data, without normalisation!\n"
     ]
    }
   ],
   "source": [
    "filetype = 'train'\n",
    "myDB = '../../../Documents/ubicomp_datasets/'\n",
    "\n",
    "Xy_train = read_PAMAP2(myDB, 'train')\n",
    "Xy_test = read_PAMAP2(myDB, 'test')\n",
    "print('raw data, without normalisation!')\n",
    "\n",
    "scipy.io.savemat('PAMAP2.mat', dict(Xy_train=Xy_train,Xy_test=Xy_test))"
   ]
  },
  {
   "cell_type": "code",
   "execution_count": null,
   "metadata": {},
   "outputs": [],
   "source": [
    "\n"
   ]
  },
  {
   "cell_type": "code",
   "execution_count": null,
   "metadata": {},
   "outputs": [],
   "source": []
  },
  {
   "cell_type": "code",
   "execution_count": null,
   "metadata": {},
   "outputs": [],
   "source": []
  },
  {
   "cell_type": "code",
   "execution_count": null,
   "metadata": {},
   "outputs": [],
   "source": []
  },
  {
   "cell_type": "code",
   "execution_count": null,
   "metadata": {},
   "outputs": [],
   "source": []
  },
  {
   "cell_type": "code",
   "execution_count": null,
   "metadata": {},
   "outputs": [],
   "source": []
  },
  {
   "cell_type": "code",
   "execution_count": null,
   "metadata": {},
   "outputs": [],
   "source": []
  },
  {
   "cell_type": "code",
   "execution_count": null,
   "metadata": {},
   "outputs": [],
   "source": []
  },
  {
   "cell_type": "code",
   "execution_count": null,
   "metadata": {},
   "outputs": [],
   "source": []
  },
  {
   "cell_type": "code",
   "execution_count": null,
   "metadata": {},
   "outputs": [],
   "source": []
  }
 ],
 "metadata": {
  "kernelspec": {
   "display_name": "Python 3",
   "language": "python",
   "name": "python3"
  },
  "language_info": {
   "codemirror_mode": {
    "name": "ipython",
    "version": 3
   },
   "file_extension": ".py",
   "mimetype": "text/x-python",
   "name": "python",
   "nbconvert_exporter": "python",
   "pygments_lexer": "ipython3",
   "version": "3.6.9"
  }
 },
 "nbformat": 4,
 "nbformat_minor": 2
}
